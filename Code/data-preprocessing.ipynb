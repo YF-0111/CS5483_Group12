{
 "cells": [
  {
   "cell_type": "code",
   "execution_count": 1,
   "metadata": {},
   "outputs": [
    {
     "name": "stdout",
     "output_type": "stream",
     "text": [
      "Requirement already satisfied: scikit-learn in f:\\program files own\\python\\python38\\lib\\site-packages (1.1.2)\n",
      "Collecting scikit-learn\n",
      "  Downloading scikit_learn-1.2.2-cp38-cp38-win_amd64.whl (8.3 MB)\n",
      "Requirement already satisfied: joblib>=1.1.1 in f:\\program files own\\python\\python38\\lib\\site-packages (from scikit-learn) (1.2.0)\n",
      "Requirement already satisfied: numpy>=1.17.3 in f:\\program files own\\python\\python38\\lib\\site-packages (from scikit-learn) (1.23.3)\n",
      "Requirement already satisfied: threadpoolctl>=2.0.0 in f:\\program files own\\python\\python38\\lib\\site-packages (from scikit-learn) (3.1.0)\n",
      "Requirement already satisfied: scipy>=1.3.2 in f:\\program files own\\python\\python38\\lib\\site-packages (from scikit-learn) (1.9.3)\n",
      "Installing collected packages: scikit-learn\n",
      "  Attempting uninstall: scikit-learn\n",
      "    Found existing installation: scikit-learn 1.1.2\n",
      "    Uninstalling scikit-learn-1.1.2:\n",
      "      Successfully uninstalled scikit-learn-1.1.2\n",
      "Successfully installed scikit-learn-1.2.2\n",
      "Note: you may need to restart the kernel to use updated packages.\n"
     ]
    },
    {
     "name": "stderr",
     "output_type": "stream",
     "text": [
      "WARNING: Ignoring invalid distribution -orch (f:\\program files own\\python\\python38\\lib\\site-packages)\n",
      "WARNING: Ignoring invalid distribution -orch (f:\\program files own\\python\\python38\\lib\\site-packages)\n",
      "WARNING: Ignoring invalid distribution -orch (f:\\program files own\\python\\python38\\lib\\site-packages)\n",
      "    WARNING: Ignoring invalid distribution -orch (f:\\program files own\\python\\python38\\lib\\site-packages)\n",
      "WARNING: Ignoring invalid distribution -orch (f:\\program files own\\python\\python38\\lib\\site-packages)\n",
      "WARNING: Ignoring invalid distribution -orch (f:\\program files own\\python\\python38\\lib\\site-packages)\n",
      "WARNING: Ignoring invalid distribution -orch (f:\\program files own\\python\\python38\\lib\\site-packages)\n",
      "WARNING: Ignoring invalid distribution -orch (f:\\program files own\\python\\python38\\lib\\site-packages)\n",
      "WARNING: You are using pip version 21.1.1; however, version 23.0.1 is available.\n",
      "You should consider upgrading via the 'f:\\Program Files own\\Python\\Python38\\python.exe -m pip install --upgrade pip' command.\n"
     ]
    }
   ],
   "source": [
    "! pip install -U scikit-learn\n",
    "! pip install numpy==1.17.0\n",
    "! pip install nltk"
   ]
  },
  {
   "cell_type": "code",
   "execution_count": 1,
   "metadata": {},
   "outputs": [],
   "source": [
    "import pandas as pd\n",
    "import numpy as np\n",
    "import os"
   ]
  },
  {
   "cell_type": "code",
   "execution_count": 2,
   "metadata": {},
   "outputs": [],
   "source": [
    "ham_url = './data/ham/ham'\n",
    "spam_url = './data/spam/spam'\n",
    "\n",
    "ham_lists = os.listdir(ham_url)\n",
    "spam_lists = os.listdir(spam_url)\n",
    "# spam 1\n",
    "# ham 0\n",
    "ham_frame = pd.DataFrame(data={'email':'','label':np.zeros(len(ham_lists))})\n",
    "spam_frame = pd.DataFrame(data={'email':'','label':np.ones(len(spam_lists))})"
   ]
  },
  {
   "cell_type": "code",
   "execution_count": 3,
   "metadata": {},
   "outputs": [
    {
     "name": "stderr",
     "output_type": "stream",
     "text": [
      "C:\\Users\\hjr\\AppData\\Local\\Temp\\ipykernel_20812\\2802281897.py:6: SettingWithCopyWarning: \n",
      "A value is trying to be set on a copy of a slice from a DataFrame\n",
      "\n",
      "See the caveats in the documentation: https://pandas.pydata.org/pandas-docs/stable/user_guide/indexing.html#returning-a-view-versus-a-copy\n",
      "  ham_frame['email'][i] = content\n",
      "C:\\Users\\hjr\\AppData\\Local\\Temp\\ipykernel_20812\\2802281897.py:12: SettingWithCopyWarning: \n",
      "A value is trying to be set on a copy of a slice from a DataFrame\n",
      "\n",
      "See the caveats in the documentation: https://pandas.pydata.org/pandas-docs/stable/user_guide/indexing.html#returning-a-view-versus-a-copy\n",
      "  spam_frame['email'][i] = content\n"
     ]
    }
   ],
   "source": [
    "#ham data\n",
    "for i in range(len(ham_lists)):\n",
    "    file = open('./data/ham/ham/'+ham_lists[i],'rb')\n",
    "    content = file.read()\n",
    "    file.close()\n",
    "    ham_frame['email'][i] = content\n",
    "#spam data\n",
    "for i in range(len(spam_lists)):\n",
    "    file = open('./data/spam/spam/'+spam_lists[i],'rb')\n",
    "    content = file.read()\n",
    "    file.close()\n",
    "    spam_frame['email'][i] = content\n",
    "    \n",
    "emails_frame = pd.concat([ham_frame,spam_frame],axis = 0, ignore_index=True)"
   ]
  },
  {
   "cell_type": "code",
   "execution_count": 4,
   "metadata": {},
   "outputs": [],
   "source": [
    "# preprocess\n",
    "from nltk.corpus import stopwords\n",
    "import nltk\n",
    "stop_words = stopwords.words('english')\n",
    "def stopword(text):\n",
    "    str=''\n",
    "    wordList = text.split()\n",
    "    for word in wordList:\n",
    "        if word not in stop_words:\n",
    "            str = str+word+' '\n",
    "    return str"
   ]
  },
  {
   "cell_type": "code",
   "execution_count": 5,
   "metadata": {},
   "outputs": [],
   "source": [
    "def getStemmer(text):\n",
    "    str=''\n",
    "    stemmer = nltk.porter.PorterStemmer()\n",
    "    wordList = text.split()\n",
    "    for word in wordList:\n",
    "        word = stemmer.stem(word)\n",
    "        str = str+word+' '\n",
    "    return str"
   ]
  },
  {
   "cell_type": "code",
   "execution_count": 6,
   "metadata": {},
   "outputs": [],
   "source": [
    "import re\n",
    "import string\n",
    "translator = re.compile('[%s]' % re.escape(string.punctuation))\n",
    "def rexEmail(email):\n",
    "    text = translator.sub(' ', email)\n",
    "    text = re.sub('\\n+','',text)\n",
    "    text = re.sub('\\t+','',text)\n",
    "    text = re.sub(r'[0-9]+',' ',text)\n",
    "    text = text.lower()\n",
    "    return text"
   ]
  },
  {
   "cell_type": "code",
   "execution_count": 7,
   "metadata": {},
   "outputs": [
    {
     "name": "stderr",
     "output_type": "stream",
     "text": [
      "C:\\Users\\hjr\\AppData\\Local\\Temp\\ipykernel_20812\\3484896855.py:11: SettingWithCopyWarning: \n",
      "A value is trying to be set on a copy of a slice from a DataFrame\n",
      "\n",
      "See the caveats in the documentation: https://pandas.pydata.org/pandas-docs/stable/user_guide/indexing.html#returning-a-view-versus-a-copy\n",
      "  emails_frame['content'][i] = getStemmer(stopword(rexEmail(str(data))))\n"
     ]
    }
   ],
   "source": [
    "\n",
    "from email.parser import BytesParser\n",
    "from email.policy import default\n",
    "\n",
    "\n",
    "emails = []\n",
    "emails_frame['content'] = None\n",
    "for i in range(len(emails_frame)):\n",
    "    email =  BytesParser(policy=default).parsebytes(emails_frame['email'][i])\n",
    "    if not email.is_multipart():\n",
    "        data = email.get_payload()\n",
    "        emails_frame['content'][i] = getStemmer(stopword(rexEmail(str(data))))"
   ]
  },
  {
   "cell_type": "code",
   "execution_count": 8,
   "metadata": {},
   "outputs": [
    {
     "data": {
      "text/html": [
       "<div>\n",
       "<style scoped>\n",
       "    .dataframe tbody tr th:only-of-type {\n",
       "        vertical-align: middle;\n",
       "    }\n",
       "\n",
       "    .dataframe tbody tr th {\n",
       "        vertical-align: top;\n",
       "    }\n",
       "\n",
       "    .dataframe thead th {\n",
       "        text-align: right;\n",
       "    }\n",
       "</style>\n",
       "<table border=\"1\" class=\"dataframe\">\n",
       "  <thead>\n",
       "    <tr style=\"text-align: right;\">\n",
       "      <th></th>\n",
       "      <th>email</th>\n",
       "      <th>label</th>\n",
       "      <th>content</th>\n",
       "    </tr>\n",
       "  </thead>\n",
       "  <tbody>\n",
       "    <tr>\n",
       "      <th>0</th>\n",
       "      <td>b'From exmh-workers-admin@redhat.com  Thu Aug ...</td>\n",
       "      <td>0.0</td>\n",
       "      <td>date wed aug chri garrigu cwg date fa deepeddi...</td>\n",
       "    </tr>\n",
       "    <tr>\n",
       "      <th>1</th>\n",
       "      <td>b'Return-Path: &lt;Online#3.19578.34-UgGTgZFN19NA...</td>\n",
       "      <td>0.0</td>\n",
       "      <td>html head titl cabl compani crack wi fi titl h...</td>\n",
       "    </tr>\n",
       "    <tr>\n",
       "      <th>2</th>\n",
       "      <td>b'Return-Path: &lt;Online#3.19584.83-p1SYlJ1blFvQ...</td>\n",
       "      <td>0.0</td>\n",
       "      <td>html head titl shopper newslett alert titl hea...</td>\n",
       "    </tr>\n",
       "    <tr>\n",
       "      <th>3</th>\n",
       "      <td>b'From Steve_Burt@cursor-system.com  Thu Aug 2...</td>\n",
       "      <td>0.0</td>\n",
       "      <td>martin post tasso papadopoulo greek sculptor b...</td>\n",
       "    </tr>\n",
       "    <tr>\n",
       "      <th>4</th>\n",
       "      <td>b'Return-Path: &lt;Online#3.19586.b5-9w0blztbvHPd...</td>\n",
       "      <td>0.0</td>\n",
       "      <td>cnet download dispatch mac edit juli vol use m...</td>\n",
       "    </tr>\n",
       "    <tr>\n",
       "      <th>...</th>\n",
       "      <td>...</td>\n",
       "      <td>...</td>\n",
       "      <td>...</td>\n",
       "    </tr>\n",
       "    <tr>\n",
       "      <th>3058</th>\n",
       "      <td>b'From 2002biz2biz2513@Flashmail.com  Mon Oct ...</td>\n",
       "      <td>1.0</td>\n",
       "      <td>stumbl greatest way market centuri undoubtedli...</td>\n",
       "    </tr>\n",
       "    <tr>\n",
       "      <th>3059</th>\n",
       "      <td>b'From biz2biz2446@Flashmail.com  Mon Oct  7 2...</td>\n",
       "      <td>1.0</td>\n",
       "      <td>stumbl greatest way market centuri undoubtedli...</td>\n",
       "    </tr>\n",
       "    <tr>\n",
       "      <th>3060</th>\n",
       "      <td>b'From bounce2@u-answer.com  Tue Oct  8 11:02:...</td>\n",
       "      <td>1.0</td>\n",
       "      <td>html head meta http equiv content languag cont...</td>\n",
       "    </tr>\n",
       "    <tr>\n",
       "      <th>3061</th>\n",
       "      <td>b'From beautyinfufuxxxmeb13mxy@aol.com  Tue Oc...</td>\n",
       "      <td>1.0</td>\n",
       "      <td>html bodi tr valign top td height bgcolor ffff...</td>\n",
       "    </tr>\n",
       "    <tr>\n",
       "      <th>3062</th>\n",
       "      <td>b'From evtwqmigru@datcon.co.uk  Tue Oct  8 11:...</td>\n",
       "      <td>1.0</td>\n",
       "      <td>uncommon exot pleasur botan feel marvel mood s...</td>\n",
       "    </tr>\n",
       "  </tbody>\n",
       "</table>\n",
       "<p>3063 rows × 3 columns</p>\n",
       "</div>"
      ],
      "text/plain": [
       "                                                  email  label  \\\n",
       "0     b'From exmh-workers-admin@redhat.com  Thu Aug ...    0.0   \n",
       "1     b'Return-Path: <Online#3.19578.34-UgGTgZFN19NA...    0.0   \n",
       "2     b'Return-Path: <Online#3.19584.83-p1SYlJ1blFvQ...    0.0   \n",
       "3     b'From Steve_Burt@cursor-system.com  Thu Aug 2...    0.0   \n",
       "4     b'Return-Path: <Online#3.19586.b5-9w0blztbvHPd...    0.0   \n",
       "...                                                 ...    ...   \n",
       "3058  b'From 2002biz2biz2513@Flashmail.com  Mon Oct ...    1.0   \n",
       "3059  b'From biz2biz2446@Flashmail.com  Mon Oct  7 2...    1.0   \n",
       "3060  b'From bounce2@u-answer.com  Tue Oct  8 11:02:...    1.0   \n",
       "3061  b'From beautyinfufuxxxmeb13mxy@aol.com  Tue Oc...    1.0   \n",
       "3062  b'From evtwqmigru@datcon.co.uk  Tue Oct  8 11:...    1.0   \n",
       "\n",
       "                                                content  \n",
       "0     date wed aug chri garrigu cwg date fa deepeddi...  \n",
       "1     html head titl cabl compani crack wi fi titl h...  \n",
       "2     html head titl shopper newslett alert titl hea...  \n",
       "3     martin post tasso papadopoulo greek sculptor b...  \n",
       "4     cnet download dispatch mac edit juli vol use m...  \n",
       "...                                                 ...  \n",
       "3058  stumbl greatest way market centuri undoubtedli...  \n",
       "3059  stumbl greatest way market centuri undoubtedli...  \n",
       "3060  html head meta http equiv content languag cont...  \n",
       "3061  html bodi tr valign top td height bgcolor ffff...  \n",
       "3062  uncommon exot pleasur botan feel marvel mood s...  \n",
       "\n",
       "[3063 rows x 3 columns]"
      ]
     },
     "execution_count": 8,
     "metadata": {},
     "output_type": "execute_result"
    }
   ],
   "source": [
    "filtered_emails_frame = emails_frame.dropna(axis=0)\n",
    "filtered_emails_frame = filtered_emails_frame.reset_index(drop=True)\n",
    "filtered_emails_frame"
   ]
  },
  {
   "cell_type": "code",
   "execution_count": 107,
   "metadata": {},
   "outputs": [],
   "source": [
    "filtered_emails_frame.to_csv('Preprocess_emails.csv',index=False)"
   ]
  }
 ],
 "metadata": {
  "kernelspec": {
   "display_name": "Python 3.8.10 64-bit",
   "language": "python",
   "name": "python3"
  },
  "language_info": {
   "codemirror_mode": {
    "name": "ipython",
    "version": 3
   },
   "file_extension": ".py",
   "mimetype": "text/x-python",
   "name": "python",
   "nbconvert_exporter": "python",
   "pygments_lexer": "ipython3",
   "version": "3.8.10"
  },
  "orig_nbformat": 4,
  "vscode": {
   "interpreter": {
    "hash": "f81e36477952681c8cefa749e0011d74be766f0a8a174711b64e67df3897b7f8"
   }
  }
 },
 "nbformat": 4,
 "nbformat_minor": 2
}
